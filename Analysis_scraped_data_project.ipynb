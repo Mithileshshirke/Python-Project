{
 "cells": [
  {
   "cell_type": "markdown",
   "metadata": {},
   "source": [
    "# Analysis of flipcart data"
   ]
  },
  {
   "cell_type": "code",
   "execution_count": 1,
   "metadata": {},
   "outputs": [],
   "source": [
    "import pandas as pd\n",
    "import numpy as np\n",
    "from bs4 import BeautifulSoup\n",
    "import requests\n",
    "import re\n",
    "import matplotlib.pyplot as plt\n",
    "import seaborn as sns\n",
    "import warnings \n",
    "warnings.filterwarnings('ignore')#inbuilt method filterwarnings() used to ignore warnings "
   ]
  },
  {
   "cell_type": "code",
   "execution_count": 2,
   "metadata": {},
   "outputs": [
    {
     "data": {
      "text/html": [
       "<div>\n",
       "<style scoped>\n",
       "    .dataframe tbody tr th:only-of-type {\n",
       "        vertical-align: middle;\n",
       "    }\n",
       "\n",
       "    .dataframe tbody tr th {\n",
       "        vertical-align: top;\n",
       "    }\n",
       "\n",
       "    .dataframe thead th {\n",
       "        text-align: right;\n",
       "    }\n",
       "</style>\n",
       "<table border=\"1\" class=\"dataframe\">\n",
       "  <thead>\n",
       "    <tr style=\"text-align: right;\">\n",
       "      <th></th>\n",
       "      <th>Model_name</th>\n",
       "      <th>Ratings</th>\n",
       "      <th>Customers_rated</th>\n",
       "      <th>RAM</th>\n",
       "      <th>Internal_storage</th>\n",
       "      <th>Display_size</th>\n",
       "      <th>Camera</th>\n",
       "      <th>Battery_mAh</th>\n",
       "      <th>Price</th>\n",
       "      <th>Discount</th>\n",
       "      <th>Final_Price</th>\n",
       "    </tr>\n",
       "  </thead>\n",
       "  <tbody>\n",
       "    <tr>\n",
       "      <th>0</th>\n",
       "      <td>SAMSUNG Galaxy F12 (Sky Blue, 128 GB)</td>\n",
       "      <td>4.2</td>\n",
       "      <td>40,455</td>\n",
       "      <td>4 GB RAM</td>\n",
       "      <td>128 GB ROM</td>\n",
       "      <td>16.55 cm (6.515 inch) HD+ Display</td>\n",
       "      <td>48MP + 5MP + 2MP + 2MP | 8MP Front Camera</td>\n",
       "      <td>6000 mAh Lithium-ion Battery</td>\n",
       "      <td>₹13,999</td>\n",
       "      <td>21% off</td>\n",
       "      <td>₹10,999</td>\n",
       "    </tr>\n",
       "    <tr>\n",
       "      <th>1</th>\n",
       "      <td>SAMSUNG Galaxy F12 (Sky Blue, 64 GB)</td>\n",
       "      <td>4.2</td>\n",
       "      <td>40,455</td>\n",
       "      <td>4 GB RAM</td>\n",
       "      <td>64 GB ROM</td>\n",
       "      <td>16.55 cm (6.515 inch) HD+ Display</td>\n",
       "      <td>48MP + 5MP + 2MP + 2MP | 8MP Front Camera</td>\n",
       "      <td>6000 mAh Lithium-ion Battery</td>\n",
       "      <td>₹12,999</td>\n",
       "      <td>23% off</td>\n",
       "      <td>₹9,999</td>\n",
       "    </tr>\n",
       "  </tbody>\n",
       "</table>\n",
       "</div>"
      ],
      "text/plain": [
       "                              Model_name  Ratings Customers_rated        RAM  \\\n",
       "0  SAMSUNG Galaxy F12 (Sky Blue, 128 GB)      4.2          40,455  4 GB RAM    \n",
       "1   SAMSUNG Galaxy F12 (Sky Blue, 64 GB)      4.2          40,455  4 GB RAM    \n",
       "\n",
       "  Internal_storage                       Display_size  \\\n",
       "0      128 GB ROM   16.55 cm (6.515 inch) HD+ Display   \n",
       "1       64 GB ROM   16.55 cm (6.515 inch) HD+ Display   \n",
       "\n",
       "                                      Camera                   Battery_mAh  \\\n",
       "0  48MP + 5MP + 2MP + 2MP | 8MP Front Camera  6000 mAh Lithium-ion Battery   \n",
       "1  48MP + 5MP + 2MP + 2MP | 8MP Front Camera  6000 mAh Lithium-ion Battery   \n",
       "\n",
       "     Price Discount Final_Price  \n",
       "0  ₹13,999  21% off     ₹10,999  \n",
       "1  ₹12,999  23% off      ₹9,999  "
      ]
     },
     "execution_count": 2,
     "metadata": {},
     "output_type": "execute_result"
    }
   ],
   "source": [
    "#read_csv() inbuilt method of pandas to read data from csv file\n",
    "df=pd.read_csv('flipcart_samsung_smartphones.csv')\n",
    "df.head(2)#head() inbuilt method to print first 2 observation in table bt default it gives 1st five obs"
   ]
  },
  {
   "cell_type": "code",
   "execution_count": 3,
   "metadata": {},
   "outputs": [
    {
     "name": "stdout",
     "output_type": "stream",
     "text": [
      "Total no.of rows and columns :  (537, 11)\n"
     ]
    }
   ],
   "source": [
    "print('Total no.of rows and columns : ',df.shape)#to show how many no.of rows and columns in data"
   ]
  },
  {
   "cell_type": "code",
   "execution_count": 4,
   "metadata": {},
   "outputs": [
    {
     "name": "stdout",
     "output_type": "stream",
     "text": [
      "All column names :\n",
      "Model_name Ratings Customers_rated RAM Internal_storage Display_size Camera Battery_mAh Price Discount Final_Price "
     ]
    }
   ],
   "source": [
    "print('All column names :')#to show column names in list\n",
    "for i in df.columns:\n",
    "    print(i,end=' ')"
   ]
  },
  {
   "cell_type": "code",
   "execution_count": 5,
   "metadata": {},
   "outputs": [
    {
     "name": "stdout",
     "output_type": "stream",
     "text": [
      "<class 'pandas.core.frame.DataFrame'>\n",
      "RangeIndex: 537 entries, 0 to 536\n",
      "Data columns (total 11 columns):\n",
      " #   Column            Non-Null Count  Dtype  \n",
      "---  ------            --------------  -----  \n",
      " 0   Model_name        537 non-null    object \n",
      " 1   Ratings           535 non-null    float64\n",
      " 2   Customers_rated   535 non-null    object \n",
      " 3   RAM               537 non-null    object \n",
      " 4   Internal_storage  537 non-null    object \n",
      " 5   Display_size      537 non-null    object \n",
      " 6   Camera            537 non-null    object \n",
      " 7   Battery_mAh       537 non-null    object \n",
      " 8   Price             537 non-null    object \n",
      " 9   Discount          537 non-null    object \n",
      " 10  Final_Price       537 non-null    object \n",
      "dtypes: float64(1), object(10)\n",
      "memory usage: 46.3+ KB\n"
     ]
    }
   ],
   "source": [
    "df.info()#it gives all information about data like column names,data type,number of obs etc"
   ]
  },
  {
   "cell_type": "code",
   "execution_count": 6,
   "metadata": {},
   "outputs": [
    {
     "data": {
      "text/plain": [
       "Model_name          0\n",
       "Ratings             2\n",
       "Customers_rated     2\n",
       "RAM                 0\n",
       "Internal_storage    0\n",
       "Display_size        0\n",
       "Camera              0\n",
       "Battery_mAh         0\n",
       "Price               0\n",
       "Discount            0\n",
       "Final_Price         0\n",
       "dtype: int64"
      ]
     },
     "execution_count": 6,
     "metadata": {},
     "output_type": "execute_result"
    }
   ],
   "source": [
    "#t find total number of null values in data\n",
    "df.isnull().sum()# inbuilt method isnull() to find null values and inbuilt method sum() to find total "
   ]
  },
  {
   "cell_type": "code",
   "execution_count": 7,
   "metadata": {},
   "outputs": [],
   "source": [
    "df=df.dropna()#inbuilt method dropna() used to drop/delete the observations/rows having null values"
   ]
  },
  {
   "cell_type": "code",
   "execution_count": 8,
   "metadata": {},
   "outputs": [
    {
     "name": "stdout",
     "output_type": "stream",
     "text": [
      "Total no.of rows and columns :  (535, 11)\n"
     ]
    }
   ],
   "source": [
    "#to show number of rows and columns after deleting rows having null values\n",
    "print('Total no.of rows and columns : ',df.shape) "
   ]
  },
  {
   "cell_type": "code",
   "execution_count": 9,
   "metadata": {},
   "outputs": [
    {
     "data": {
      "text/plain": [
       "Model_name          0\n",
       "Ratings             0\n",
       "Customers_rated     0\n",
       "RAM                 0\n",
       "Internal_storage    0\n",
       "Display_size        0\n",
       "Camera              0\n",
       "Battery_mAh         0\n",
       "Price               0\n",
       "Discount            0\n",
       "Final_Price         0\n",
       "dtype: int64"
      ]
     },
     "execution_count": 9,
     "metadata": {},
     "output_type": "execute_result"
    }
   ],
   "source": [
    "#to check null values are still present or not\n",
    "df.isnull().sum()"
   ]
  },
  {
   "cell_type": "code",
   "execution_count": 10,
   "metadata": {},
   "outputs": [],
   "source": [
    "#'Customers_rated' column data type is given as object because of special character comma\n",
    "#so inbuilt function replace() is used to replace comma with no other value\n",
    "df['Customers_rated']=df['Customers_rated'].str.replace(',','')"
   ]
  },
  {
   "cell_type": "code",
   "execution_count": 11,
   "metadata": {},
   "outputs": [],
   "source": [
    "#'RAM' column data type is object because of character values are present\n",
    "#inbuilt method apply() is used to apply function on column\n",
    "#so for single line user defined function lamda function is used\n",
    "#inbuilt method split() used to separate values after empty space \n",
    "#to retrieve first value indexing in used 0th index=1st value\n",
    "df['RAM']=df['RAM'].apply(lambda x:x.split()[0])"
   ]
  },
  {
   "cell_type": "code",
   "execution_count": 12,
   "metadata": {},
   "outputs": [],
   "source": [
    "#'Internal_storage' column data type is object because of character values are present\n",
    "#inbuilt method apply() is used to apply function on column\n",
    "#so for single line user defined function lamda function is used\n",
    "#inbuilt method split() used to separate values after empty space \n",
    "#to retrieve first value indexing in used 0th index=1st value\n",
    "df['Internal_storage']=df['Internal_storage'].apply(lambda x:x.split()[0])"
   ]
  },
  {
   "cell_type": "code",
   "execution_count": 13,
   "metadata": {},
   "outputs": [],
   "source": [
    "#'Display_size' column data type is object because of character values and special characters are present\n",
    "#inbuilt method apply() is used to apply function on column\n",
    "#so for single line user defined function lamda function is used\n",
    "#inbuilt method split() used to separate values after empty space \n",
    "#to retrieve first value indexing in used 0th index=1st value\n",
    "df['Display_size']=df['Display_size'].apply(lambda x:x.split()[0])"
   ]
  },
  {
   "cell_type": "code",
   "execution_count": 14,
   "metadata": {},
   "outputs": [],
   "source": [
    "#'Battery_mAh' column data type is object because of character values and special characters are present\n",
    "#inbuilt method apply() is used to apply function on column\n",
    "#so for single line user defined function lamda function is used\n",
    "#inbuilt method split() used to separate values after empty space \n",
    "#to retrieve first value indexing in used 0th index=1st value\n",
    "df['Battery_mAh']=df['Battery_mAh'].apply(lambda x:x.split()[0])"
   ]
  },
  {
   "cell_type": "code",
   "execution_count": 15,
   "metadata": {},
   "outputs": [],
   "source": [
    "#'Price' column data type is given as object because of special character comma and ₹\n",
    "#so inbuilt function replace() is used to replace ₹ and comma with no other value\n",
    "df['Price']=df['Price'].str.replace('₹','')\n",
    "df['Price']=df['Price'].str.replace(',','')"
   ]
  },
  {
   "cell_type": "code",
   "execution_count": 16,
   "metadata": {},
   "outputs": [],
   "source": [
    "#'Discount' column data type is object because of character values and special characters are present\n",
    "#inbuilt method apply() is used to apply function on column\n",
    "#so for single line user defined function lamda function is used\n",
    "#inbuilt method split() used to separate values after special character % \n",
    "#to retrieve first value indexing in used 0th index=1st value\n",
    "df['Discount']=df['Discount'].apply(lambda x:x.split('%')[0])"
   ]
  },
  {
   "cell_type": "code",
   "execution_count": 17,
   "metadata": {},
   "outputs": [],
   "source": [
    "#'Final_Price' column data type is object because of special character\n",
    "#so inbuilt function replace() is used to replace ₹ and comma with no other value\n",
    "df['Final_Price']=df['Final_Price'].str.replace('₹','')\n",
    "df['Final_Price']=df['Final_Price'].str.replace(',','')"
   ]
  },
  {
   "cell_type": "code",
   "execution_count": 18,
   "metadata": {},
   "outputs": [
    {
     "data": {
      "text/html": [
       "<div>\n",
       "<style scoped>\n",
       "    .dataframe tbody tr th:only-of-type {\n",
       "        vertical-align: middle;\n",
       "    }\n",
       "\n",
       "    .dataframe tbody tr th {\n",
       "        vertical-align: top;\n",
       "    }\n",
       "\n",
       "    .dataframe thead th {\n",
       "        text-align: right;\n",
       "    }\n",
       "</style>\n",
       "<table border=\"1\" class=\"dataframe\">\n",
       "  <thead>\n",
       "    <tr style=\"text-align: right;\">\n",
       "      <th></th>\n",
       "      <th>Model_name</th>\n",
       "      <th>Ratings</th>\n",
       "      <th>Customers_rated</th>\n",
       "      <th>RAM</th>\n",
       "      <th>Internal_storage</th>\n",
       "      <th>Display_size</th>\n",
       "      <th>Camera</th>\n",
       "      <th>Battery_mAh</th>\n",
       "      <th>Price</th>\n",
       "      <th>Discount</th>\n",
       "      <th>Final_Price</th>\n",
       "    </tr>\n",
       "  </thead>\n",
       "  <tbody>\n",
       "    <tr>\n",
       "      <th>0</th>\n",
       "      <td>SAMSUNG Galaxy F12 (Sky Blue, 128 GB)</td>\n",
       "      <td>4.2</td>\n",
       "      <td>40455</td>\n",
       "      <td>4</td>\n",
       "      <td>128</td>\n",
       "      <td>16.55</td>\n",
       "      <td>48MP + 5MP + 2MP + 2MP | 8MP Front Camera</td>\n",
       "      <td>6000</td>\n",
       "      <td>13999</td>\n",
       "      <td>21</td>\n",
       "      <td>10999</td>\n",
       "    </tr>\n",
       "    <tr>\n",
       "      <th>1</th>\n",
       "      <td>SAMSUNG Galaxy F12 (Sky Blue, 64 GB)</td>\n",
       "      <td>4.2</td>\n",
       "      <td>40455</td>\n",
       "      <td>4</td>\n",
       "      <td>64</td>\n",
       "      <td>16.55</td>\n",
       "      <td>48MP + 5MP + 2MP + 2MP | 8MP Front Camera</td>\n",
       "      <td>6000</td>\n",
       "      <td>12999</td>\n",
       "      <td>23</td>\n",
       "      <td>9999</td>\n",
       "    </tr>\n",
       "  </tbody>\n",
       "</table>\n",
       "</div>"
      ],
      "text/plain": [
       "                              Model_name  Ratings Customers_rated RAM  \\\n",
       "0  SAMSUNG Galaxy F12 (Sky Blue, 128 GB)      4.2           40455   4   \n",
       "1   SAMSUNG Galaxy F12 (Sky Blue, 64 GB)      4.2           40455   4   \n",
       "\n",
       "  Internal_storage Display_size                                     Camera  \\\n",
       "0              128        16.55  48MP + 5MP + 2MP + 2MP | 8MP Front Camera   \n",
       "1               64        16.55  48MP + 5MP + 2MP + 2MP | 8MP Front Camera   \n",
       "\n",
       "  Battery_mAh  Price Discount Final_Price  \n",
       "0        6000  13999       21       10999  \n",
       "1        6000  12999       23        9999  "
      ]
     },
     "execution_count": 18,
     "metadata": {},
     "output_type": "execute_result"
    }
   ],
   "source": [
    "df.head(2)#to print 1st 2 observations to check changes are made permanently or not"
   ]
  },
  {
   "cell_type": "code",
   "execution_count": 19,
   "metadata": {},
   "outputs": [],
   "source": [
    "#to_numeric() inbuilt method of pandas is used to change datatype of variables/columns\n",
    "#it changes type to int or float depending upon values\n",
    "df['RAM']=pd.to_numeric(df['RAM'])\n",
    "df['Display_size']=pd.to_numeric(df['Display_size'])\n",
    "df['Discount']=pd.to_numeric(df['Discount'])"
   ]
  },
  {
   "cell_type": "code",
   "execution_count": 20,
   "metadata": {},
   "outputs": [],
   "source": [
    "##inbuilt method astype() is used to change datatype of variables/columns\n",
    "#it changes type to int or float according to user passing argument\n",
    "df['Customers_rated']=df['Customers_rated'].astype(int)#change object type to integer\n",
    "df['RAM']=df['RAM'].astype(float)#change object type to float\n",
    "df['Internal_storage']=df['Internal_storage'].astype(int)#change object type to integer\n",
    "df['Battery_mAh']=df['Battery_mAh'].astype(int)#change object type to integer\n",
    "df['Price']=df['Price'].astype(int)#change object type to integer\n",
    "df['Final_Price']=df['Final_Price'].astype(int)#change object type to integer"
   ]
  },
  {
   "cell_type": "code",
   "execution_count": 21,
   "metadata": {},
   "outputs": [
    {
     "data": {
      "text/plain": [
       "Model_name           object\n",
       "Ratings             float64\n",
       "Customers_rated       int32\n",
       "RAM                 float64\n",
       "Internal_storage      int32\n",
       "Display_size        float64\n",
       "Camera               object\n",
       "Battery_mAh           int32\n",
       "Price                 int32\n",
       "Discount              int64\n",
       "Final_Price           int32\n",
       "dtype: object"
      ]
     },
     "execution_count": 21,
     "metadata": {},
     "output_type": "execute_result"
    }
   ],
   "source": [
    "#to check data type of observations changes are made permanently or not\n",
    "df.dtypes"
   ]
  },
  {
   "cell_type": "code",
   "execution_count": 22,
   "metadata": {},
   "outputs": [
    {
     "name": "stdout",
     "output_type": "stream",
     "text": [
      "Total no.of values are added in MBs instead of GBs :  27\n"
     ]
    }
   ],
   "source": [
    "#flipcart_samsung_smartphone data having some values in differnt format\n",
    "#'RAM' column consisting values in GB's but few values are added in MB's\n",
    "#sort_values() is inbuilt method to arrange all data in descending format\n",
    "data=df.sort_values(['RAM'],axis=0,ascending=False)#store this data into new temporary variable\n",
    "n=len(data[data['RAM']>20])# inbuilt method len() is used to find length of data for given condition\n",
    "print('Total no.of values are added in MBs instead of GBs : ',n)"
   ]
  },
  {
   "cell_type": "code",
   "execution_count": 23,
   "metadata": {},
   "outputs": [],
   "source": [
    "data=data.head(n) #store 1st n observations in temporary variable\n",
    "#using for loop we store index of n observations in list\n",
    "list=[i for i in data.index]#list comprehension\n",
    "#inbuilt method index is used to find index of obseravations\n",
    "#using for loop we access index values  \n",
    "for i in list:\n",
    "    df['RAM'][i]=round((df['RAM'][i])/1000,1)\n",
    "    #using index locations change those observations MBs into GBs in main data permanently\n",
    "    #round() method used to round values after decimal place"
   ]
  },
  {
   "cell_type": "code",
   "execution_count": 24,
   "metadata": {},
   "outputs": [
    {
     "name": "stdout",
     "output_type": "stream",
     "text": [
      "Total no.of values are added in TBs instead of GBs :  1\n"
     ]
    }
   ],
   "source": [
    "##'Internal_storage' column consisting values in GB's but few values are added in TB's\n",
    "#sort_values() is inbuilt method to arrange all data in ascending format\n",
    "data=df.sort_values(['Internal_storage'],axis=0)#store this data into new temporary variable\n",
    "n=len(data[(data['Internal_storage']==1) & (data['Final_Price']>15000)])\n",
    "# inbuilt method len() is used to find length of data for given condition\n",
    "print('Total no.of values are added in TBs instead of GBs : ',n)"
   ]
  },
  {
   "cell_type": "code",
   "execution_count": 25,
   "metadata": {},
   "outputs": [],
   "source": [
    "data=data.head(n)#store 1st n observations in temporary variable\n",
    "#using for loop we store index of n observations in list\n",
    "list=[i for i in data.index]#list comprehension\n",
    "#inbuilt method index is used to find index of obseravations\n",
    "#using for loop we access index values\n",
    "for i in list:\n",
    "    df['Internal_storage'][i]=(df['Internal_storage'][i])*1000\n",
    "    #using index locations change those observations TBs into GBs in main data permanently"
   ]
  },
  {
   "cell_type": "code",
   "execution_count": 26,
   "metadata": {},
   "outputs": [
    {
     "name": "stdout",
     "output_type": "stream",
     "text": [
      "Total no.of values are added in MBs instead of GBs :  2\n"
     ]
    }
   ],
   "source": [
    "#'Internal_storage' column consisting values in GB's but few values are added in MB's\n",
    "#sort_values() is inbuilt method to arrange all data in descending format\n",
    "data=df.sort_values(['Internal_storage'],axis=0,ascending=False)\n",
    "n=len(df[df['Internal_storage']>1000])# inbuilt method len() is used to find length of data for given condition\n",
    "print('Total no.of values are added in MBs instead of GBs : ',n)"
   ]
  },
  {
   "cell_type": "code",
   "execution_count": 27,
   "metadata": {},
   "outputs": [],
   "source": [
    "data=data.head(n) #store 1st n observations in temporary variable\n",
    "#using for loop we store index of n observations in list\n",
    "list=[i for i in data.index]#list comprehension\n",
    "#inbuilt method index is used to find index of obseravations\n",
    "#using for loop we access index values  \n",
    "for i in list:\n",
    "    df['Internal_storage'][i]=(df['Internal_storage'][i])/1000\n",
    "    #using index locations change those observations MBs into GBs in main data permanently"
   ]
  },
  {
   "cell_type": "code",
   "execution_count": 28,
   "metadata": {},
   "outputs": [],
   "source": [
    "#To store data permanently into csv file use inbuilt method to_csv()\n",
    "df.to_csv('final_data.csv',encoding='utf-8')#unf-8 is unicode transforming format 8bits"
   ]
  },
  {
   "cell_type": "code",
   "execution_count": 29,
   "metadata": {},
   "outputs": [
    {
     "name": "stdout",
     "output_type": "stream",
     "text": [
      "Summary Statistics of Ratings :\n"
     ]
    },
    {
     "data": {
      "text/plain": [
       "count    535.000000\n",
       "mean       4.215327\n",
       "std        0.236605\n",
       "min        3.000000\n",
       "25%        4.100000\n",
       "50%        4.300000\n",
       "75%        4.400000\n",
       "max        4.600000\n",
       "Name: Ratings, dtype: float64"
      ]
     },
     "execution_count": 29,
     "metadata": {},
     "output_type": "execute_result"
    }
   ],
   "source": [
    "#inbuilt method describe() gives summary statistics like count,mean,standard deviation,\n",
    "#minimum value,1st quantile,2nd quantile/median,3rd quantile,maximum value etc\n",
    "print('Summary Statistics of Ratings :')\n",
    "df['Ratings'].describe()"
   ]
  },
  {
   "cell_type": "code",
   "execution_count": 30,
   "metadata": {},
   "outputs": [
    {
     "name": "stdout",
     "output_type": "stream",
     "text": [
      "Model_names having minimum ratings\n",
      "353    SAMSUNG Sm-G361Hhadins (Charcoal Gray, 8 GB)\n",
      "Name: Model_name, dtype: object\n"
     ]
    }
   ],
   "source": [
    "print('Model_names having minimum ratings')\n",
    "data=df[df['Ratings']==3.0]\n",
    "for i,j in data.items():#inbuilt method items() used to access keys and keyvalues \n",
    "    if i=='Model_name':\n",
    "        print(j)\n"
   ]
  },
  {
   "cell_type": "code",
   "execution_count": 31,
   "metadata": {},
   "outputs": [
    {
     "name": "stdout",
     "output_type": "stream",
     "text": [
      "Model_names having maximum ratings\n",
      "132          SAMSUNG Galaxy Note 9 (Ocean Blue, 512 GB)\n",
      "134             SAMSUNG Galaxy S10 (Prism Blue, 128 GB)\n",
      "139            SAMSUNG Galaxy S10 (Prism White, 512 GB)\n",
      "149     SAMSUNG Galaxy Note 9 (Metallic Copper, 128 GB)\n",
      "151          SAMSUNG Galaxy Note 9 (Ocean Blue, 128 GB)\n",
      "153      SAMSUNG Galaxy Note 9 (Midnight Black, 512 GB)\n",
      "162     SAMSUNG Galaxy S8 Plus (Midnight Black, 128 GB)\n",
      "207     SAMSUNG Galaxy S10 Plus (Ceramic Black, 512 GB)\n",
      "263    SAMSUNG Galaxy Note 10 Plus (Aura Black, 256 GB)\n",
      "345     SAMSUNG Galaxy Note 10 Plus (Aura Glow, 256 GB)\n",
      "378        SAMSUNG Galaxy S10 Plus (Prism Blue, 128 GB)\n",
      "391     SAMSUNG Galaxy Note 9 (Metallic Copper, 512 GB)\n",
      "392    SAMSUNG Galaxy Note 10 Plus (Aura White, 256 GB)\n",
      "409        SAMSUNG Galaxy Note 9 (Alpine White, 128 GB)\n",
      "414             SAMSUNG Galaxy S8 (Burgundy Red, 64 GB)\n",
      "423            SAMSUNG Galaxy S10 (Prism White, 128 GB)\n",
      "437            SAMSUNG Galaxy S10 (Prism Black, 128 GB)\n",
      "442           SAMSUNG Galaxy Note 8 (Maple Gold, 64 GB)\n",
      "451       SAMSUNG Galaxy S10 Plus (Prism White, 128 GB)\n",
      "454       SAMSUNG Galaxy Note 8 (Midnight Black, 64 GB)\n",
      "458     SAMSUNG Galaxy Note 10 Plus (Aura Glow, 512 GB)\n",
      "462    SAMSUNG Galaxy Note 10 Plus (Aura Black, 512 GB)\n",
      "498          SAMSUNG Galaxy Note 8 (Orchid Grey, 64 GB)\n",
      "521        SAMSUNG Galaxy S10 Plus (Prism Blue, 128 GB)\n",
      "523       SAMSUNG Galaxy S10 Plus (Prism Black, 128 GB)\n",
      "Name: Model_name, dtype: object\n"
     ]
    }
   ],
   "source": [
    "print('Model_names having maximum ratings')\n",
    "data=df[df['Ratings']==4.6]\n",
    "for i,j in data.items():#inbuilt method items() used to access keys and keyvalues \n",
    "    if i=='Model_name':\n",
    "        print(j)"
   ]
  },
  {
   "cell_type": "code",
   "execution_count": 32,
   "metadata": {},
   "outputs": [
    {
     "name": "stdout",
     "output_type": "stream",
     "text": [
      "Summary Statistics of Customers_rated :\n"
     ]
    },
    {
     "data": {
      "text/plain": [
       "count       535.000000\n",
       "mean      13700.009346\n",
       "std       44665.036204\n",
       "min           3.000000\n",
       "25%         715.000000\n",
       "50%        2227.000000\n",
       "75%        7191.000000\n",
       "max      365765.000000\n",
       "Name: Customers_rated, dtype: float64"
      ]
     },
     "execution_count": 32,
     "metadata": {},
     "output_type": "execute_result"
    }
   ],
   "source": [
    "print('Summary Statistics of Customers_rated :')\n",
    "df['Customers_rated'].describe()"
   ]
  },
  {
   "cell_type": "code",
   "execution_count": 33,
   "metadata": {},
   "outputs": [
    {
     "name": "stdout",
     "output_type": "stream",
     "text": [
      "Model names having minimum Customers rating :\n",
      "353    SAMSUNG Sm-G361Hhadins (Charcoal Gray, 8 GB)\n",
      "Name: Model_name, dtype: object\n"
     ]
    }
   ],
   "source": [
    "print('Model names having minimum Customers rating :')\n",
    "data=df[df['Customers_rated']==3]\n",
    "print(data['Model_name'])"
   ]
  },
  {
   "cell_type": "code",
   "execution_count": 34,
   "metadata": {},
   "outputs": [
    {
     "name": "stdout",
     "output_type": "stream",
     "text": [
      "Model names having maximum Customers rating :\n",
      "287    SAMSUNG Galaxy On Nxt (Black, 16 GB)\n",
      "302     SAMSUNG Galaxy On Nxt (Gold, 16 GB)\n",
      "Name: Model_name, dtype: object\n"
     ]
    }
   ],
   "source": [
    "print('Model names having maximum Customers rating :')\n",
    "data=df[df['Customers_rated']==365765]\n",
    "for i,j in data.items():#inbuilt method items() used to access keys and keyvalues \n",
    "    if i=='Model_name':\n",
    "        print(j)"
   ]
  },
  {
   "cell_type": "code",
   "execution_count": 35,
   "metadata": {},
   "outputs": [
    {
     "name": "stdout",
     "output_type": "stream",
     "text": [
      "Summary Statistics of Discount :\n"
     ]
    },
    {
     "data": {
      "text/plain": [
       "count    535.000000\n",
       "mean       5.622430\n",
       "std       11.209424\n",
       "min        0.000000\n",
       "25%        0.000000\n",
       "50%        0.000000\n",
       "75%        6.000000\n",
       "max       57.000000\n",
       "Name: Discount, dtype: float64"
      ]
     },
     "execution_count": 35,
     "metadata": {},
     "output_type": "execute_result"
    }
   ],
   "source": [
    "print('Summary Statistics of Discount :')\n",
    "df['Discount'].describe()"
   ]
  },
  {
   "cell_type": "code",
   "execution_count": 36,
   "metadata": {},
   "outputs": [
    {
     "name": "stdout",
     "output_type": "stream",
     "text": [
      "Model names having minimum Discount :\n",
      "13                    SAMSUNG Galaxy M12 (Black, 64 GB)\n",
      "17         SAMSUNG GALAXY M51 (Celestial Black, 128 GB)\n",
      "20                     SAMSUNG Galaxy M02 (Blue, 32 GB)\n",
      "23                     SAMSUNG Galaxy M02 (Blue, 32 GB)\n",
      "24      SAMSUNG Galaxy M42 5G (Prism Dot Black, 128 GB)\n",
      "                             ...                       \n",
      "532    SAMSUNG Galaxy Grand I9082 (Metallic Blue, 8 GB)\n",
      "533               SAMSUNG S7 Edge (Black Pearl, 128 GB)\n",
      "534                 SAMSUNG Grand Prime 4G (Gold, 8 GB)\n",
      "535       SAMSUNG Galaxy S7 Edge (Gold Platinum, 32 GB)\n",
      "536                      SAMSUNG On7 Pro (Black, 16 GB)\n",
      "Name: Model_name, Length: 374, dtype: object\n"
     ]
    }
   ],
   "source": [
    "print('Model names having minimum Discount :')\n",
    "data=df[df['Discount']==0]\n",
    "for i,j in data.items():#inbuilt method items() used to access keys and keyvalues \n",
    "    if i=='Model_name':\n",
    "        print(j)"
   ]
  },
  {
   "cell_type": "code",
   "execution_count": 37,
   "metadata": {},
   "outputs": [
    {
     "name": "stdout",
     "output_type": "stream",
     "text": [
      "Model names having maximum Discount :\n",
      "440    SAMSUNG Galaxy S7 (Gold Platinum, 32 GB)\n",
      "Name: Model_name, dtype: object\n"
     ]
    }
   ],
   "source": [
    "print('Model names having maximum Discount :')\n",
    "data=df[df['Discount']==57]\n",
    "for i,j in data.items():#inbuilt method items() used to access keys and keyvalues \n",
    "    if i=='Model_name':\n",
    "        print(j)"
   ]
  },
  {
   "cell_type": "code",
   "execution_count": 38,
   "metadata": {},
   "outputs": [
    {
     "name": "stdout",
     "output_type": "stream",
     "text": [
      "Summary Statistics of Final_Price :\n"
     ]
    },
    {
     "data": {
      "text/plain": [
       "count       535.000000\n",
       "mean      24297.175701\n",
       "std       22118.274326\n",
       "min        3500.000000\n",
       "25%        9935.500000\n",
       "50%       16199.000000\n",
       "75%       28000.000000\n",
       "max      134999.000000\n",
       "Name: Final_Price, dtype: float64"
      ]
     },
     "execution_count": 38,
     "metadata": {},
     "output_type": "execute_result"
    }
   ],
   "source": [
    "print('Summary Statistics of Final_Price :')\n",
    "df['Final_Price'].describe()"
   ]
  },
  {
   "cell_type": "code",
   "execution_count": 39,
   "metadata": {},
   "outputs": [
    {
     "name": "stdout",
     "output_type": "stream",
     "text": [
      "Model names having minimum Final Price :\n",
      "492    SAMSUNG Galaxy Star Advance (Black, 4 GB)\n",
      "Name: Model_name, dtype: object\n"
     ]
    }
   ],
   "source": [
    "print('Model names having minimum Final Price :')\n",
    "data=df[df['Final_Price']==3500]\n",
    "for i,j in data.items():#inbuilt method items() used to access keys and keyvalues \n",
    "    if i=='Model_name':\n",
    "        print(j)"
   ]
  },
  {
   "cell_type": "code",
   "execution_count": 40,
   "metadata": {},
   "outputs": [
    {
     "name": "stdout",
     "output_type": "stream",
     "text": [
      "Model names having maximum Final Price :\n",
      "398    SAMSUNG Galaxy Fold 2 (Mystic Black, 256 GB)\n",
      "Name: Model_name, dtype: object\n"
     ]
    }
   ],
   "source": [
    "print('Model names having maximum Final Price :')\n",
    "data=df[df['Final_Price']==134999]\n",
    "for i,j in data.items():#inbuilt method items() used to access keys and keyvalues \n",
    "    if i=='Model_name':\n",
    "        print(j)"
   ]
  },
  {
   "cell_type": "code",
   "execution_count": 41,
   "metadata": {},
   "outputs": [
    {
     "data": {
      "text/html": [
       "<div>\n",
       "<style scoped>\n",
       "    .dataframe tbody tr th:only-of-type {\n",
       "        vertical-align: middle;\n",
       "    }\n",
       "\n",
       "    .dataframe tbody tr th {\n",
       "        vertical-align: top;\n",
       "    }\n",
       "\n",
       "    .dataframe thead th {\n",
       "        text-align: right;\n",
       "    }\n",
       "</style>\n",
       "<table border=\"1\" class=\"dataframe\">\n",
       "  <thead>\n",
       "    <tr style=\"text-align: right;\">\n",
       "      <th></th>\n",
       "      <th>Ratings</th>\n",
       "      <th>Customers_rated</th>\n",
       "      <th>RAM</th>\n",
       "      <th>Internal_storage</th>\n",
       "      <th>Display_size</th>\n",
       "      <th>Battery_mAh</th>\n",
       "      <th>Price</th>\n",
       "      <th>Discount</th>\n",
       "      <th>Final_Price</th>\n",
       "    </tr>\n",
       "  </thead>\n",
       "  <tbody>\n",
       "    <tr>\n",
       "      <th>count</th>\n",
       "      <td>535.000000</td>\n",
       "      <td>535.000000</td>\n",
       "      <td>535.000000</td>\n",
       "      <td>535.000000</td>\n",
       "      <td>535.000000</td>\n",
       "      <td>535.000000</td>\n",
       "      <td>535.000000</td>\n",
       "      <td>535.000000</td>\n",
       "      <td>535.000000</td>\n",
       "    </tr>\n",
       "    <tr>\n",
       "      <th>mean</th>\n",
       "      <td>4.215327</td>\n",
       "      <td>13700.009346</td>\n",
       "      <td>4.085794</td>\n",
       "      <td>74.489720</td>\n",
       "      <td>14.759813</td>\n",
       "      <td>3702.654206</td>\n",
       "      <td>11370.921495</td>\n",
       "      <td>5.622430</td>\n",
       "      <td>24297.175701</td>\n",
       "    </tr>\n",
       "    <tr>\n",
       "      <th>std</th>\n",
       "      <td>0.236605</td>\n",
       "      <td>44665.036204</td>\n",
       "      <td>2.613410</td>\n",
       "      <td>91.691345</td>\n",
       "      <td>2.053777</td>\n",
       "      <td>1283.789328</td>\n",
       "      <td>24690.385091</td>\n",
       "      <td>11.209424</td>\n",
       "      <td>22118.274326</td>\n",
       "    </tr>\n",
       "    <tr>\n",
       "      <th>min</th>\n",
       "      <td>3.000000</td>\n",
       "      <td>3.000000</td>\n",
       "      <td>0.500000</td>\n",
       "      <td>4.000000</td>\n",
       "      <td>7.370000</td>\n",
       "      <td>1200.000000</td>\n",
       "      <td>0.000000</td>\n",
       "      <td>0.000000</td>\n",
       "      <td>3500.000000</td>\n",
       "    </tr>\n",
       "    <tr>\n",
       "      <th>25%</th>\n",
       "      <td>4.100000</td>\n",
       "      <td>715.000000</td>\n",
       "      <td>2.000000</td>\n",
       "      <td>16.000000</td>\n",
       "      <td>13.210000</td>\n",
       "      <td>2850.000000</td>\n",
       "      <td>0.000000</td>\n",
       "      <td>0.000000</td>\n",
       "      <td>9935.500000</td>\n",
       "    </tr>\n",
       "    <tr>\n",
       "      <th>50%</th>\n",
       "      <td>4.300000</td>\n",
       "      <td>2227.000000</td>\n",
       "      <td>4.000000</td>\n",
       "      <td>32.000000</td>\n",
       "      <td>15.240000</td>\n",
       "      <td>3500.000000</td>\n",
       "      <td>0.000000</td>\n",
       "      <td>0.000000</td>\n",
       "      <td>16199.000000</td>\n",
       "    </tr>\n",
       "    <tr>\n",
       "      <th>75%</th>\n",
       "      <td>4.400000</td>\n",
       "      <td>7191.000000</td>\n",
       "      <td>6.000000</td>\n",
       "      <td>128.000000</td>\n",
       "      <td>16.385000</td>\n",
       "      <td>4500.000000</td>\n",
       "      <td>12449.000000</td>\n",
       "      <td>6.000000</td>\n",
       "      <td>28000.000000</td>\n",
       "    </tr>\n",
       "    <tr>\n",
       "      <th>max</th>\n",
       "      <td>4.600000</td>\n",
       "      <td>365765.000000</td>\n",
       "      <td>12.000000</td>\n",
       "      <td>1000.000000</td>\n",
       "      <td>19.300000</td>\n",
       "      <td>7000.000000</td>\n",
       "      <td>189999.000000</td>\n",
       "      <td>57.000000</td>\n",
       "      <td>134999.000000</td>\n",
       "    </tr>\n",
       "  </tbody>\n",
       "</table>\n",
       "</div>"
      ],
      "text/plain": [
       "          Ratings  Customers_rated         RAM  Internal_storage  \\\n",
       "count  535.000000       535.000000  535.000000        535.000000   \n",
       "mean     4.215327     13700.009346    4.085794         74.489720   \n",
       "std      0.236605     44665.036204    2.613410         91.691345   \n",
       "min      3.000000         3.000000    0.500000          4.000000   \n",
       "25%      4.100000       715.000000    2.000000         16.000000   \n",
       "50%      4.300000      2227.000000    4.000000         32.000000   \n",
       "75%      4.400000      7191.000000    6.000000        128.000000   \n",
       "max      4.600000    365765.000000   12.000000       1000.000000   \n",
       "\n",
       "       Display_size  Battery_mAh          Price    Discount    Final_Price  \n",
       "count    535.000000   535.000000     535.000000  535.000000     535.000000  \n",
       "mean      14.759813  3702.654206   11370.921495    5.622430   24297.175701  \n",
       "std        2.053777  1283.789328   24690.385091   11.209424   22118.274326  \n",
       "min        7.370000  1200.000000       0.000000    0.000000    3500.000000  \n",
       "25%       13.210000  2850.000000       0.000000    0.000000    9935.500000  \n",
       "50%       15.240000  3500.000000       0.000000    0.000000   16199.000000  \n",
       "75%       16.385000  4500.000000   12449.000000    6.000000   28000.000000  \n",
       "max       19.300000  7000.000000  189999.000000   57.000000  134999.000000  "
      ]
     },
     "execution_count": 41,
     "metadata": {},
     "output_type": "execute_result"
    }
   ],
   "source": [
    "df.describe()#to show summary statistics of all numeric datatype columns"
   ]
  },
  {
   "cell_type": "code",
   "execution_count": 42,
   "metadata": {},
   "outputs": [
    {
     "data": {
      "image/png": "[encoded data removed]",
      "text/plain": [
       "<Figure size 1008x360 with 2 Axes>"
      ]
     },
     "metadata": {
      "needs_background": "light"
     },
     "output_type": "display_data"
    }
   ],
   "source": [
    "#To find relation between RAM and Final_Price\n",
    "plt.figure(figsize=(14,5))#figure() inbuilt method of pyplot to adjust/change size of plot (width,height)\n",
    "plt.subplot(1,2,1)#inbuilt method subplot(rowindex=1,no.columns=2,column index=1)\n",
    "#used to print multiple plot side by side \n",
    "sns.scatterplot(data=df,x='RAM',y='Final_Price')\n",
    "#scatterplot is inbuilt method of seaborn library to print scatterplot\n",
    "plt.subplot(1,2,2)#inbuilt method subplot(rowindex=1,no.columns=2,column index=2)\n",
    "sns.lineplot(data=df,x='RAM',y='Final_Price')\n",
    "#lineplot is inbuilt method of seaborn library to print lineplot\n",
    "plt.suptitle('Relation between RAM and Final_Price')#inbuilt method suptitle() used to give combine title to plot\n",
    "plt.show()#inbuilt method of pyplot show() is used to show plot in good manner"
   ]
  },
  {
   "cell_type": "markdown",
   "metadata": {},
   "source": [
    "Conclusion:There is relation between Final_Price and RAM,\n",
    "when RAM values increases Final_Price values are also increases ."
   ]
  },
  {
   "cell_type": "code",
   "execution_count": 43,
   "metadata": {},
   "outputs": [
    {
     "data": {
      "image/png": "[encoded data removed]",
      "text/plain": [
       "<Figure size 1008x360 with 2 Axes>"
      ]
     },
     "metadata": {
      "needs_background": "light"
     },
     "output_type": "display_data"
    }
   ],
   "source": [
    "#to find relation between Internal_storage and Final_Price\n",
    "plt.figure(figsize=(14,5))#figure() inbuilt method of pyplot to adjust/change size of plot (width,height)\n",
    "plt.subplot(1,2,1)#inbuilt method subplot(rowindex=1,no.columns=2,column index=1)\n",
    "#used to print multiple plot side by side\n",
    "sns.scatterplot(data=df,x='Internal_storage',y='Final_Price')\n",
    "#scatterplot is inbuilt method of seaborn library to print scatterplot\n",
    "plt.subplot(1,2,2)#inbuilt method subplot(rowindex=1,no.columns=2,column index=2)\n",
    "sns.lineplot(data=df,x='Internal_storage',y='Final_Price')\n",
    "#lineplot is inbuilt method of seaborn library to print lineplot\n",
    "plt.suptitle('Relation between Internal_storage and Final_Price')\n",
    "plt.show()#inbuilt method of pyplot show() is used to show plot in good manner"
   ]
  },
  {
   "cell_type": "markdown",
   "metadata": {},
   "source": [
    "Conclusion:There is relation between Final_Price and Internal_storage,\n",
    "when Internal_storage values are increases Final_Price are also increases."
   ]
  },
  {
   "cell_type": "code",
   "execution_count": 44,
   "metadata": {},
   "outputs": [
    {
     "data": {
      "image/png": "[encoded data removed]",
      "text/plain": [
       "<Figure size 1008x360 with 2 Axes>"
      ]
     },
     "metadata": {
      "needs_background": "light"
     },
     "output_type": "display_data"
    }
   ],
   "source": [
    "#to find relation between Display_size and Final_Price\n",
    "plt.figure(figsize=(14,5))#figure() inbuilt method of pyplot to adjust/change size of plot (width,height)\n",
    "plt.subplot(1,2,1)#inbuilt method subplot(rowindex=1,no.columns=2,column index=1)\n",
    "#used to print multiple plot side by side\n",
    "sns.scatterplot(data=df,x='Display_size',y='Final_Price')\n",
    "#scatterplot is inbuilt method of seaborn library to print scatterplot\n",
    "plt.subplot(1,2,2)#inbuilt method subplot(rowindex=1,no.columns=2,column index=2)\n",
    "sns.lineplot(data=df,x='Display_size',y='Final_Price')\n",
    "#lineplot is inbuilt method of seaborn library to print lineplot\n",
    "plt.suptitle('Relation between Display_size and Final_Price')\n",
    "plt.show()#inbuilt method of pyplot show() is used to show plot in good manner"
   ]
  },
  {
   "cell_type": "markdown",
   "metadata": {},
   "source": [
    "Conclusion:There is relation between Final_Price and Display_size,\n",
    "Final_Price changes with Display_size values."
   ]
  },
  {
   "cell_type": "code",
   "execution_count": 45,
   "metadata": {},
   "outputs": [
    {
     "data": {
      "image/png": "[encoded data removed]",
      "text/plain": [
       "<Figure size 1008x360 with 2 Axes>"
      ]
     },
     "metadata": {
      "needs_background": "light"
     },
     "output_type": "display_data"
    }
   ],
   "source": [
    "#to find relation between Battery_mAh and Final_Price\n",
    "plt.figure(figsize=(14,5))#figure() inbuilt method of pyplot to adjust/change size of plot (width,height)\n",
    "plt.subplot(1,2,1)#inbuilt method subplot(rowindex=1,no.columns=2,column index=1)\n",
    "#used to print multiple plot side by side\n",
    "sns.scatterplot(data=df,x='Battery_mAh',y='Final_Price')\n",
    "#scatterplot is inbuilt method of seaborn library to print scatterplot\n",
    "plt.subplot(1,2,2)#inbuilt method subplot(rowindex=1,no.columns=2,column index=2)\n",
    "sns.lineplot(data=df,x='Battery_mAh',y='Final_Price')\n",
    "#lineplot is inbuilt method of seaborn library to print lineplot\n",
    "plt.suptitle('Relation between Battery_mAh and Final_Price')\n",
    "plt.show()#inbuilt method of pyplot show() is used to show plot in good manner"
   ]
  },
  {
   "cell_type": "markdown",
   "metadata": {},
   "source": [
    "Conclusion:There is relation between Final_Price and Battery_mAh,\n",
    "Final_Price varies with Battery_mAh values."
   ]
  },
  {
   "cell_type": "code",
   "execution_count": 46,
   "metadata": {},
   "outputs": [
    {
     "data": {
      "image/png": "[encoded data removed]",
      "text/plain": [
       "<Figure size 432x288 with 1 Axes>"
      ]
     },
     "metadata": {
      "needs_background": "light"
     },
     "output_type": "display_data"
    }
   ],
   "source": [
    "#To find frequency/density of RAM values\n",
    "sns.distplot(df['RAM'])#distplot() is inbuilt method of seaborn library\n",
    "#it print both histogram and frequency curve\n",
    "plt.title('Frequency/Density of RAM')\n",
    "plt.show()"
   ]
  },
  {
   "cell_type": "markdown",
   "metadata": {},
   "source": [
    "Conclusion:Frequency increasing as RAM values increases but after certain value it starts decreasing"
   ]
  },
  {
   "cell_type": "code",
   "execution_count": 47,
   "metadata": {},
   "outputs": [
    {
     "data": {
      "image/png": "[encoded data removed]",
      "text/plain": [
       "<Figure size 432x288 with 1 Axes>"
      ]
     },
     "metadata": {
      "needs_background": "light"
     },
     "output_type": "display_data"
    }
   ],
   "source": [
    "#To find frequency/density of Battery_mAh values\n",
    "sns.distplot(df['Battery_mAh'])\n",
    "plt.title('Frequency/Density of Battery_mAh')\n",
    "plt.show()"
   ]
  },
  {
   "cell_type": "markdown",
   "metadata": {},
   "source": [
    "Conclusion:Frequency increasing as Battery_mAh values increases but after certain value it starts decreasing"
   ]
  },
  {
   "cell_type": "code",
   "execution_count": 48,
   "metadata": {},
   "outputs": [
    {
     "data": {
      "image/png": "[encoded data removed]",
      "text/plain": [
       "<Figure size 432x288 with 1 Axes>"
      ]
     },
     "metadata": {
      "needs_background": "light"
     },
     "output_type": "display_data"
    }
   ],
   "source": [
    "##To find frequency of Final_Price values\n",
    "sns.distplot(df['Final_Price'],kde=False,bins=5,color='black')\n",
    "#distplot() print both histogram and freq curve kde=False will not print freq curve\n",
    "plt.title('Frequency/Density of Final_values')\n",
    "plt.show()"
   ]
  },
  {
   "cell_type": "markdown",
   "metadata": {},
   "source": [
    "Conclusion:Frequency is high when Final_Price is less than 40000 and \n",
    "very less when Final_Price is more than 80000 "
   ]
  },
  {
   "cell_type": "code",
   "execution_count": 49,
   "metadata": {},
   "outputs": [
    {
     "data": {
      "image/png": "[encoded data removed]",
      "text/plain": [
       "<Figure size 432x288 with 1 Axes>"
      ]
     },
     "metadata": {
      "needs_background": "light"
     },
     "output_type": "display_data"
    }
   ],
   "source": [
    "#To show outliers are present in Final_Price or not\n",
    "sns.boxplot(df['Final_Price'])#boxplot() is inbuilt method of seaborn library\n",
    "#boxplot shows 1st quantile,median,3rd quantile ,upper range and lower range and outliers in data\n",
    "plt.show()"
   ]
  },
  {
   "cell_type": "markdown",
   "metadata": {},
   "source": [
    "Conclusion: Many outliers are present in Final_Price values"
   ]
  },
  {
   "cell_type": "code",
   "execution_count": 50,
   "metadata": {},
   "outputs": [
    {
     "data": {
      "image/png": "[encoded data removed]",
      "text/plain": [
       "<Figure size 432x288 with 1 Axes>"
      ]
     },
     "metadata": {
      "needs_background": "light"
     },
     "output_type": "display_data"
    }
   ],
   "source": [
    "#To show outliers are present in Display_size or not\n",
    "sns.boxplot(df['Display_size'])\n",
    "#boxplot shows 1st quantile,median,3rd quantile ,upper range and lower range and outliers in data\n",
    "plt.show()"
   ]
  },
  {
   "cell_type": "markdown",
   "metadata": {},
   "source": [
    "Conclusion: Few outliers present in Display_size values"
   ]
  },
  {
   "cell_type": "code",
   "execution_count": 51,
   "metadata": {},
   "outputs": [
    {
     "data": {
      "image/png": "[encoded data removed]",
      "text/plain": [
       "<Figure size 432x288 with 1 Axes>"
      ]
     },
     "metadata": {
      "needs_background": "light"
     },
     "output_type": "display_data"
    }
   ],
   "source": [
    "#To show outliers are present in Internal_storage or not\n",
    "sns.boxplot(df['Internal_storage'])\n",
    "#boxplot shows 1st quantile,median,3rd quantile ,upper range and lower range and outliers in data\n",
    "plt.show()"
   ]
  },
  {
   "cell_type": "markdown",
   "metadata": {},
   "source": [
    "Conclusion: Few outliers are present in Internal_storage values"
   ]
  },
  {
   "cell_type": "code",
   "execution_count": 52,
   "metadata": {},
   "outputs": [
    {
     "data": {
      "image/png": "[encoded data removed]",
      "text/plain": [
       "<Figure size 432x288 with 1 Axes>"
      ]
     },
     "metadata": {
      "needs_background": "light"
     },
     "output_type": "display_data"
    }
   ],
   "source": [
    "#To show outliers are present in RAM or not\n",
    "sns.boxplot(df['RAM'])\n",
    "#boxplot shows 1st quantile,median,3rd quantile ,upper range and lower range and outliers in data\n",
    "plt.show()"
   ]
  },
  {
   "cell_type": "markdown",
   "metadata": {},
   "source": [
    "Conclusion: No outliers present in RAM values"
   ]
  }
 ],
 "metadata": {
  "kernelspec": {
   "display_name": "Python 3",
   "language": "python",
   "name": "python3"
  },
  "language_info": {
   "codemirror_mode": {
    "name": "ipython",
    "version": 3
   },
   "file_extension": ".py",
   "mimetype": "text/x-python",
   "name": "python",
   "nbconvert_exporter": "python",
   "pygments_lexer": "ipython3",
   "version": "3.8.5"
  }
 },
 "nbformat": 4,
 "nbformat_minor": 4
}
